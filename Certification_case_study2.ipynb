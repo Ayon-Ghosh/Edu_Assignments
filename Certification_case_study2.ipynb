{
 "cells": [
  {
   "cell_type": "markdown",
   "metadata": {},
   "source": [
    "Certification_case_study2"
   ]
  },
  {
   "cell_type": "code",
   "execution_count": 95,
   "metadata": {},
   "outputs": [
    {
     "data": {
      "text/html": [
       "<div>\n",
       "<style scoped>\n",
       "    .dataframe tbody tr th:only-of-type {\n",
       "        vertical-align: middle;\n",
       "    }\n",
       "\n",
       "    .dataframe tbody tr th {\n",
       "        vertical-align: top;\n",
       "    }\n",
       "\n",
       "    .dataframe thead th {\n",
       "        text-align: right;\n",
       "    }\n",
       "</style>\n",
       "<table border=\"1\" class=\"dataframe\">\n",
       "  <thead>\n",
       "    <tr style=\"text-align: right;\">\n",
       "      <th></th>\n",
       "      <th>Country</th>\n",
       "      <th>1990</th>\n",
       "      <th>1991</th>\n",
       "      <th>1992</th>\n",
       "      <th>1993</th>\n",
       "      <th>1994</th>\n",
       "      <th>1995</th>\n",
       "      <th>1996</th>\n",
       "      <th>1997</th>\n",
       "      <th>1998</th>\n",
       "      <th>1999</th>\n",
       "      <th>2000</th>\n",
       "      <th>2001</th>\n",
       "      <th>2002</th>\n",
       "      <th>2003</th>\n",
       "      <th>2004</th>\n",
       "      <th>2005</th>\n",
       "      <th>2006</th>\n",
       "      <th>2007</th>\n",
       "    </tr>\n",
       "  </thead>\n",
       "  <tbody>\n",
       "    <tr>\n",
       "      <td>0</td>\n",
       "      <td>Afghanistan</td>\n",
       "      <td>436</td>\n",
       "      <td>429</td>\n",
       "      <td>422</td>\n",
       "      <td>415</td>\n",
       "      <td>407</td>\n",
       "      <td>397</td>\n",
       "      <td>397</td>\n",
       "      <td>387</td>\n",
       "      <td>374</td>\n",
       "      <td>373</td>\n",
       "      <td>346</td>\n",
       "      <td>326</td>\n",
       "      <td>304</td>\n",
       "      <td>308</td>\n",
       "      <td>283</td>\n",
       "      <td>267</td>\n",
       "      <td>251</td>\n",
       "      <td>238</td>\n",
       "    </tr>\n",
       "    <tr>\n",
       "      <td>1</td>\n",
       "      <td>Albania</td>\n",
       "      <td>42</td>\n",
       "      <td>40</td>\n",
       "      <td>41</td>\n",
       "      <td>42</td>\n",
       "      <td>42</td>\n",
       "      <td>43</td>\n",
       "      <td>42</td>\n",
       "      <td>44</td>\n",
       "      <td>43</td>\n",
       "      <td>42</td>\n",
       "      <td>40</td>\n",
       "      <td>34</td>\n",
       "      <td>32</td>\n",
       "      <td>32</td>\n",
       "      <td>29</td>\n",
       "      <td>29</td>\n",
       "      <td>26</td>\n",
       "      <td>22</td>\n",
       "    </tr>\n",
       "    <tr>\n",
       "      <td>2</td>\n",
       "      <td>Algeria</td>\n",
       "      <td>45</td>\n",
       "      <td>44</td>\n",
       "      <td>44</td>\n",
       "      <td>43</td>\n",
       "      <td>43</td>\n",
       "      <td>42</td>\n",
       "      <td>43</td>\n",
       "      <td>44</td>\n",
       "      <td>45</td>\n",
       "      <td>46</td>\n",
       "      <td>48</td>\n",
       "      <td>49</td>\n",
       "      <td>50</td>\n",
       "      <td>51</td>\n",
       "      <td>52</td>\n",
       "      <td>53</td>\n",
       "      <td>55</td>\n",
       "      <td>56</td>\n",
       "    </tr>\n",
       "    <tr>\n",
       "      <td>3</td>\n",
       "      <td>American Samoa</td>\n",
       "      <td>42</td>\n",
       "      <td>14</td>\n",
       "      <td>4</td>\n",
       "      <td>18</td>\n",
       "      <td>17</td>\n",
       "      <td>22</td>\n",
       "      <td>0</td>\n",
       "      <td>25</td>\n",
       "      <td>12</td>\n",
       "      <td>8</td>\n",
       "      <td>8</td>\n",
       "      <td>6</td>\n",
       "      <td>5</td>\n",
       "      <td>6</td>\n",
       "      <td>9</td>\n",
       "      <td>11</td>\n",
       "      <td>9</td>\n",
       "      <td>5</td>\n",
       "    </tr>\n",
       "    <tr>\n",
       "      <td>4</td>\n",
       "      <td>Andorra</td>\n",
       "      <td>39</td>\n",
       "      <td>37</td>\n",
       "      <td>35</td>\n",
       "      <td>33</td>\n",
       "      <td>32</td>\n",
       "      <td>30</td>\n",
       "      <td>28</td>\n",
       "      <td>23</td>\n",
       "      <td>24</td>\n",
       "      <td>22</td>\n",
       "      <td>20</td>\n",
       "      <td>20</td>\n",
       "      <td>21</td>\n",
       "      <td>18</td>\n",
       "      <td>19</td>\n",
       "      <td>18</td>\n",
       "      <td>17</td>\n",
       "      <td>19</td>\n",
       "    </tr>\n",
       "  </tbody>\n",
       "</table>\n",
       "</div>"
      ],
      "text/plain": [
       "          Country  1990  1991  1992  1993  1994  1995  1996  1997  1998  1999  \\\n",
       "0     Afghanistan   436   429   422   415   407   397   397   387   374   373   \n",
       "1         Albania    42    40    41    42    42    43    42    44    43    42   \n",
       "2         Algeria    45    44    44    43    43    42    43    44    45    46   \n",
       "3  American Samoa    42    14     4    18    17    22     0    25    12     8   \n",
       "4         Andorra    39    37    35    33    32    30    28    23    24    22   \n",
       "\n",
       "   2000  2001  2002  2003  2004  2005  2006  2007  \n",
       "0   346   326   304   308   283   267   251   238  \n",
       "1    40    34    32    32    29    29    26    22  \n",
       "2    48    49    50    51    52    53    55    56  \n",
       "3     8     6     5     6     9    11     9     5  \n",
       "4    20    20    21    18    19    18    17    19  "
      ]
     },
     "execution_count": 95,
     "metadata": {},
     "output_type": "execute_result"
    }
   ],
   "source": [
    "import pandas as pd\n",
    "import numpy as np\n",
    "export = pd.read_csv('C:\\edureka\\certification\\Data_set\\Project_Data_1.csv',thousands = ',')\n",
    "export.rename(columns = {'Sales of Wheat in tons':'Country'}, inplace = True)\n",
    "export.head()"
   ]
  },
  {
   "cell_type": "code",
   "execution_count": 96,
   "metadata": {},
   "outputs": [
    {
     "name": "stdout",
     "output_type": "stream",
     "text": [
      "<class 'pandas.core.frame.DataFrame'>\n",
      "RangeIndex: 207 entries, 0 to 206\n",
      "Data columns (total 19 columns):\n",
      "Country    207 non-null object\n",
      "1990       207 non-null int64\n",
      "1991       207 non-null int64\n",
      "1992       207 non-null int64\n",
      "1993       207 non-null int64\n",
      "1994       207 non-null int64\n",
      "1995       207 non-null int64\n",
      "1996       207 non-null int64\n",
      "1997       207 non-null int64\n",
      "1998       207 non-null int64\n",
      "1999       207 non-null int64\n",
      "2000       207 non-null int64\n",
      "2001       207 non-null int64\n",
      "2002       207 non-null int64\n",
      "2003       207 non-null int64\n",
      "2004       207 non-null int64\n",
      "2005       207 non-null int64\n",
      "2006       207 non-null int64\n",
      "2007       207 non-null int64\n",
      "dtypes: int64(18), object(1)\n",
      "memory usage: 30.9+ KB\n"
     ]
    }
   ],
   "source": [
    "export.info()"
   ]
  },
  {
   "cell_type": "code",
   "execution_count": 99,
   "metadata": {},
   "outputs": [
    {
     "data": {
      "text/html": [
       "<div>\n",
       "<style scoped>\n",
       "    .dataframe tbody tr th:only-of-type {\n",
       "        vertical-align: middle;\n",
       "    }\n",
       "\n",
       "    .dataframe tbody tr th {\n",
       "        vertical-align: top;\n",
       "    }\n",
       "\n",
       "    .dataframe thead th {\n",
       "        text-align: right;\n",
       "    }\n",
       "</style>\n",
       "<table border=\"1\" class=\"dataframe\">\n",
       "  <thead>\n",
       "    <tr style=\"text-align: right;\">\n",
       "      <th></th>\n",
       "      <th>1990</th>\n",
       "      <th>1991</th>\n",
       "      <th>1992</th>\n",
       "      <th>1993</th>\n",
       "      <th>1994</th>\n",
       "      <th>1995</th>\n",
       "      <th>1996</th>\n",
       "      <th>1997</th>\n",
       "      <th>1998</th>\n",
       "      <th>1999</th>\n",
       "      <th>2000</th>\n",
       "      <th>2001</th>\n",
       "      <th>2002</th>\n",
       "      <th>2003</th>\n",
       "      <th>2004</th>\n",
       "      <th>2005</th>\n",
       "      <th>2006</th>\n",
       "      <th>2007</th>\n",
       "    </tr>\n",
       "    <tr>\n",
       "      <th>Country</th>\n",
       "      <th></th>\n",
       "      <th></th>\n",
       "      <th></th>\n",
       "      <th></th>\n",
       "      <th></th>\n",
       "      <th></th>\n",
       "      <th></th>\n",
       "      <th></th>\n",
       "      <th></th>\n",
       "      <th></th>\n",
       "      <th></th>\n",
       "      <th></th>\n",
       "      <th></th>\n",
       "      <th></th>\n",
       "      <th></th>\n",
       "      <th></th>\n",
       "      <th></th>\n",
       "      <th></th>\n",
       "    </tr>\n",
       "  </thead>\n",
       "  <tbody>\n",
       "    <tr>\n",
       "      <td>Afghanistan</td>\n",
       "      <td>436</td>\n",
       "      <td>429</td>\n",
       "      <td>422</td>\n",
       "      <td>415</td>\n",
       "      <td>407</td>\n",
       "      <td>397</td>\n",
       "      <td>397</td>\n",
       "      <td>387</td>\n",
       "      <td>374</td>\n",
       "      <td>373</td>\n",
       "      <td>346</td>\n",
       "      <td>326</td>\n",
       "      <td>304</td>\n",
       "      <td>308</td>\n",
       "      <td>283</td>\n",
       "      <td>267</td>\n",
       "      <td>251</td>\n",
       "      <td>238</td>\n",
       "    </tr>\n",
       "    <tr>\n",
       "      <td>Albania</td>\n",
       "      <td>42</td>\n",
       "      <td>40</td>\n",
       "      <td>41</td>\n",
       "      <td>42</td>\n",
       "      <td>42</td>\n",
       "      <td>43</td>\n",
       "      <td>42</td>\n",
       "      <td>44</td>\n",
       "      <td>43</td>\n",
       "      <td>42</td>\n",
       "      <td>40</td>\n",
       "      <td>34</td>\n",
       "      <td>32</td>\n",
       "      <td>32</td>\n",
       "      <td>29</td>\n",
       "      <td>29</td>\n",
       "      <td>26</td>\n",
       "      <td>22</td>\n",
       "    </tr>\n",
       "    <tr>\n",
       "      <td>Algeria</td>\n",
       "      <td>45</td>\n",
       "      <td>44</td>\n",
       "      <td>44</td>\n",
       "      <td>43</td>\n",
       "      <td>43</td>\n",
       "      <td>42</td>\n",
       "      <td>43</td>\n",
       "      <td>44</td>\n",
       "      <td>45</td>\n",
       "      <td>46</td>\n",
       "      <td>48</td>\n",
       "      <td>49</td>\n",
       "      <td>50</td>\n",
       "      <td>51</td>\n",
       "      <td>52</td>\n",
       "      <td>53</td>\n",
       "      <td>55</td>\n",
       "      <td>56</td>\n",
       "    </tr>\n",
       "    <tr>\n",
       "      <td>American Samoa</td>\n",
       "      <td>42</td>\n",
       "      <td>14</td>\n",
       "      <td>4</td>\n",
       "      <td>18</td>\n",
       "      <td>17</td>\n",
       "      <td>22</td>\n",
       "      <td>0</td>\n",
       "      <td>25</td>\n",
       "      <td>12</td>\n",
       "      <td>8</td>\n",
       "      <td>8</td>\n",
       "      <td>6</td>\n",
       "      <td>5</td>\n",
       "      <td>6</td>\n",
       "      <td>9</td>\n",
       "      <td>11</td>\n",
       "      <td>9</td>\n",
       "      <td>5</td>\n",
       "    </tr>\n",
       "    <tr>\n",
       "      <td>Andorra</td>\n",
       "      <td>39</td>\n",
       "      <td>37</td>\n",
       "      <td>35</td>\n",
       "      <td>33</td>\n",
       "      <td>32</td>\n",
       "      <td>30</td>\n",
       "      <td>28</td>\n",
       "      <td>23</td>\n",
       "      <td>24</td>\n",
       "      <td>22</td>\n",
       "      <td>20</td>\n",
       "      <td>20</td>\n",
       "      <td>21</td>\n",
       "      <td>18</td>\n",
       "      <td>19</td>\n",
       "      <td>18</td>\n",
       "      <td>17</td>\n",
       "      <td>19</td>\n",
       "    </tr>\n",
       "  </tbody>\n",
       "</table>\n",
       "</div>"
      ],
      "text/plain": [
       "                1990  1991  1992  1993  1994  1995  1996  1997  1998  1999  \\\n",
       "Country                                                                      \n",
       "Afghanistan      436   429   422   415   407   397   397   387   374   373   \n",
       "Albania           42    40    41    42    42    43    42    44    43    42   \n",
       "Algeria           45    44    44    43    43    42    43    44    45    46   \n",
       "American Samoa    42    14     4    18    17    22     0    25    12     8   \n",
       "Andorra           39    37    35    33    32    30    28    23    24    22   \n",
       "\n",
       "                2000  2001  2002  2003  2004  2005  2006  2007  \n",
       "Country                                                         \n",
       "Afghanistan      346   326   304   308   283   267   251   238  \n",
       "Albania           40    34    32    32    29    29    26    22  \n",
       "Algeria           48    49    50    51    52    53    55    56  \n",
       "American Samoa     8     6     5     6     9    11     9     5  \n",
       "Andorra           20    20    21    18    19    18    17    19  "
      ]
     },
     "execution_count": 99,
     "metadata": {},
     "output_type": "execute_result"
    }
   ],
   "source": [
    "export.set_index('Country', inplace=True)\n",
    "export.head()"
   ]
  },
  {
   "cell_type": "markdown",
   "metadata": {},
   "source": [
    "Conducting PCA to reduce dimensions"
   ]
  },
  {
   "cell_type": "code",
   "execution_count": 101,
   "metadata": {},
   "outputs": [
    {
     "data": {
      "text/html": [
       "<div>\n",
       "<style scoped>\n",
       "    .dataframe tbody tr th:only-of-type {\n",
       "        vertical-align: middle;\n",
       "    }\n",
       "\n",
       "    .dataframe tbody tr th {\n",
       "        vertical-align: top;\n",
       "    }\n",
       "\n",
       "    .dataframe thead th {\n",
       "        text-align: right;\n",
       "    }\n",
       "</style>\n",
       "<table border=\"1\" class=\"dataframe\">\n",
       "  <thead>\n",
       "    <tr style=\"text-align: right;\">\n",
       "      <th></th>\n",
       "      <th>Dimension 1</th>\n",
       "      <th>Dimension 2</th>\n",
       "    </tr>\n",
       "    <tr>\n",
       "      <th>Country</th>\n",
       "      <th></th>\n",
       "      <th></th>\n",
       "    </tr>\n",
       "  </thead>\n",
       "  <tbody>\n",
       "    <tr>\n",
       "      <td>Afghanistan</td>\n",
       "      <td>732.215864</td>\n",
       "      <td>203.381494</td>\n",
       "    </tr>\n",
       "    <tr>\n",
       "      <td>Albania</td>\n",
       "      <td>-613.296510</td>\n",
       "      <td>4.715978</td>\n",
       "    </tr>\n",
       "    <tr>\n",
       "      <td>Algeria</td>\n",
       "      <td>-569.303713</td>\n",
       "      <td>-36.837051</td>\n",
       "    </tr>\n",
       "    <tr>\n",
       "      <td>American Samoa</td>\n",
       "      <td>-717.082766</td>\n",
       "      <td>5.464696</td>\n",
       "    </tr>\n",
       "    <tr>\n",
       "      <td>Andorra</td>\n",
       "      <td>-661.802241</td>\n",
       "      <td>11.037736</td>\n",
       "    </tr>\n",
       "  </tbody>\n",
       "</table>\n",
       "</div>"
      ],
      "text/plain": [
       "                Dimension 1  Dimension 2\n",
       "Country                                 \n",
       "Afghanistan      732.215864   203.381494\n",
       "Albania         -613.296510     4.715978\n",
       "Algeria         -569.303713   -36.837051\n",
       "American Samoa  -717.082766     5.464696\n",
       "Andorra         -661.802241    11.037736"
      ]
     },
     "execution_count": 101,
     "metadata": {},
     "output_type": "execute_result"
    }
   ],
   "source": [
    "from sklearn.decomposition import PCA\n",
    "pca = PCA(n_components=2)\n",
    "pca.fit(export)\n",
    "export_pca = pca.transform(export)\n",
    "export_pca_dataframe = pd.DataFrame(export_pca,columns = ['Dimension 1', 'Dimension 2'], index = export.index)\n",
    "export_pca_dataframe.head()"
   ]
  },
  {
   "cell_type": "code",
   "execution_count": 102,
   "metadata": {},
   "outputs": [
    {
     "name": "stdout",
     "output_type": "stream",
     "text": [
      "[0.91808789 0.060556  ]\n"
     ]
    },
    {
     "data": {
      "text/plain": [
       "array([91.8,  6.1])"
      ]
     },
     "execution_count": 102,
     "metadata": {},
     "output_type": "execute_result"
    }
   ],
   "source": [
    "print (pca.explained_variance_ratio_)\n",
    "import numpy as np\n",
    "per_var = np.round(pca.explained_variance_ratio_*100, decimals=1)\n",
    "per_var"
   ]
  },
  {
   "cell_type": "markdown",
   "metadata": {},
   "source": [
    "scree plot - PC1 and PC2 considers >95% of the variance"
   ]
  },
  {
   "cell_type": "code",
   "execution_count": 104,
   "metadata": {},
   "outputs": [
    {
     "data": {
      "image/png": "[encoded data removed]",
      "text/plain": [
       "<Figure size 432x288 with 1 Axes>"
      ]
     },
     "metadata": {
      "needs_background": "light"
     },
     "output_type": "display_data"
    }
   ],
   "source": [
    "import matplotlib.pyplot as plt\n",
    "%matplotlib inline\n",
    "labels = ['PC'+str(x) for x in range(1,len(per_var)+1)]\n",
    "plt.bar(x = range(1,len(per_var)+1),height = per_var,tick_label = labels)\n",
    "plt.ylabel(\"percentage of explained variance\")\n",
    "plt.xlabel('Principal component')\n",
    "plt.title('Scree Plot')\n",
    "plt.show()"
   ]
  },
  {
   "cell_type": "markdown",
   "metadata": {},
   "source": [
    "scatter plot"
   ]
  },
  {
   "cell_type": "code",
   "execution_count": 111,
   "metadata": {},
   "outputs": [
    {
     "data": {
      "image/png": "[encoded data removed]",
      "text/plain": [
       "<Figure size 720x720 with 1 Axes>"
      ]
     },
     "metadata": {
      "needs_background": "light"
     },
     "output_type": "display_data"
    }
   ],
   "source": [
    "import matplotlib.pyplot as plt\n",
    "%matplotlib inline\n",
    "from matplotlib.pylab import rcParams\n",
    "rcParams['figure.figsize'] = 10, 10\n",
    "plt.scatter(x=export_pca_dataframe.loc[:, 'Dimension 1'], y=export_pca_dataframe.loc[:, 'Dimension 2'],c='blue', s = 20)\n",
    "plt.xlabel(\"Dimension 1\", fontsize=14)\n",
    "plt.ylabel(\"Dimension 2\", fontsize=14)\n",
    "plt.title(\"PCA on 2 dimensions.\", fontsize=16)\n",
    "for i, country in enumerate(export.index):\n",
    "    plt.annotate(country, (export.iloc[i,0], export.iloc[i,1]))"
   ]
  },
  {
   "cell_type": "code",
   "execution_count": 113,
   "metadata": {},
   "outputs": [
    {
     "data": {
      "text/html": [
       "<div>\n",
       "<style scoped>\n",
       "    .dataframe tbody tr th:only-of-type {\n",
       "        vertical-align: middle;\n",
       "    }\n",
       "\n",
       "    .dataframe tbody tr th {\n",
       "        vertical-align: top;\n",
       "    }\n",
       "\n",
       "    .dataframe thead th {\n",
       "        text-align: right;\n",
       "    }\n",
       "</style>\n",
       "<table border=\"1\" class=\"dataframe\">\n",
       "  <thead>\n",
       "    <tr style=\"text-align: right;\">\n",
       "      <th></th>\n",
       "      <th>Dimension 1</th>\n",
       "      <th>Dimension 2</th>\n",
       "      <th>mean</th>\n",
       "    </tr>\n",
       "    <tr>\n",
       "      <th>Country</th>\n",
       "      <th></th>\n",
       "      <th></th>\n",
       "      <th></th>\n",
       "    </tr>\n",
       "  </thead>\n",
       "  <tbody>\n",
       "    <tr>\n",
       "      <td>Afghanistan</td>\n",
       "      <td>732.215864</td>\n",
       "      <td>203.381494</td>\n",
       "      <td>353.333333</td>\n",
       "    </tr>\n",
       "    <tr>\n",
       "      <td>Albania</td>\n",
       "      <td>-613.296510</td>\n",
       "      <td>4.715978</td>\n",
       "      <td>36.944444</td>\n",
       "    </tr>\n",
       "    <tr>\n",
       "      <td>Algeria</td>\n",
       "      <td>-569.303713</td>\n",
       "      <td>-36.837051</td>\n",
       "      <td>47.388889</td>\n",
       "    </tr>\n",
       "    <tr>\n",
       "      <td>American Samoa</td>\n",
       "      <td>-717.082766</td>\n",
       "      <td>5.464696</td>\n",
       "      <td>12.277778</td>\n",
       "    </tr>\n",
       "    <tr>\n",
       "      <td>Andorra</td>\n",
       "      <td>-661.802241</td>\n",
       "      <td>11.037736</td>\n",
       "      <td>25.277778</td>\n",
       "    </tr>\n",
       "  </tbody>\n",
       "</table>\n",
       "</div>"
      ],
      "text/plain": [
       "                Dimension 1  Dimension 2        mean\n",
       "Country                                             \n",
       "Afghanistan      732.215864   203.381494  353.333333\n",
       "Albania         -613.296510     4.715978   36.944444\n",
       "Algeria         -569.303713   -36.837051   47.388889\n",
       "American Samoa  -717.082766     5.464696   12.277778\n",
       "Andorra         -661.802241    11.037736   25.277778"
      ]
     },
     "execution_count": 113,
     "metadata": {},
     "output_type": "execute_result"
    }
   ],
   "source": [
    "#mean exports of each country\n",
    "export_pca_dataframe['mean'] = export.mean(axis=1)\n",
    "export_pca_dataframe.head()"
   ]
  },
  {
   "cell_type": "code",
   "execution_count": 114,
   "metadata": {},
   "outputs": [
    {
     "data": {
      "text/html": [
       "<div>\n",
       "<style scoped>\n",
       "    .dataframe tbody tr th:only-of-type {\n",
       "        vertical-align: middle;\n",
       "    }\n",
       "\n",
       "    .dataframe tbody tr th {\n",
       "        vertical-align: top;\n",
       "    }\n",
       "\n",
       "    .dataframe thead th {\n",
       "        text-align: right;\n",
       "    }\n",
       "</style>\n",
       "<table border=\"1\" class=\"dataframe\">\n",
       "  <thead>\n",
       "    <tr style=\"text-align: right;\">\n",
       "      <th></th>\n",
       "      <th>Dimension 1</th>\n",
       "      <th>Dimension 2</th>\n",
       "      <th>mean</th>\n",
       "      <th>total_export</th>\n",
       "    </tr>\n",
       "    <tr>\n",
       "      <th>Country</th>\n",
       "      <th></th>\n",
       "      <th></th>\n",
       "      <th></th>\n",
       "      <th></th>\n",
       "    </tr>\n",
       "  </thead>\n",
       "  <tbody>\n",
       "    <tr>\n",
       "      <td>Afghanistan</td>\n",
       "      <td>732.215864</td>\n",
       "      <td>203.381494</td>\n",
       "      <td>353.333333</td>\n",
       "      <td>6360</td>\n",
       "    </tr>\n",
       "    <tr>\n",
       "      <td>Albania</td>\n",
       "      <td>-613.296510</td>\n",
       "      <td>4.715978</td>\n",
       "      <td>36.944444</td>\n",
       "      <td>665</td>\n",
       "    </tr>\n",
       "    <tr>\n",
       "      <td>Algeria</td>\n",
       "      <td>-569.303713</td>\n",
       "      <td>-36.837051</td>\n",
       "      <td>47.388889</td>\n",
       "      <td>853</td>\n",
       "    </tr>\n",
       "    <tr>\n",
       "      <td>American Samoa</td>\n",
       "      <td>-717.082766</td>\n",
       "      <td>5.464696</td>\n",
       "      <td>12.277778</td>\n",
       "      <td>221</td>\n",
       "    </tr>\n",
       "    <tr>\n",
       "      <td>Andorra</td>\n",
       "      <td>-661.802241</td>\n",
       "      <td>11.037736</td>\n",
       "      <td>25.277778</td>\n",
       "      <td>455</td>\n",
       "    </tr>\n",
       "  </tbody>\n",
       "</table>\n",
       "</div>"
      ],
      "text/plain": [
       "                Dimension 1  Dimension 2        mean  total_export\n",
       "Country                                                           \n",
       "Afghanistan      732.215864   203.381494  353.333333          6360\n",
       "Albania         -613.296510     4.715978   36.944444           665\n",
       "Algeria         -569.303713   -36.837051   47.388889           853\n",
       "American Samoa  -717.082766     5.464696   12.277778           221\n",
       "Andorra         -661.802241    11.037736   25.277778           455"
      ]
     },
     "execution_count": 114,
     "metadata": {},
     "output_type": "execute_result"
    }
   ],
   "source": [
    "#total export of each country\n",
    "export_pca_dataframe['total_export'] = export.sum(axis=1)\n",
    "export_pca_dataframe.head()"
   ]
  },
  {
   "cell_type": "code",
   "execution_count": 122,
   "metadata": {},
   "outputs": [
    {
     "data": {
      "text/html": [
       "<div>\n",
       "<style scoped>\n",
       "    .dataframe tbody tr th:only-of-type {\n",
       "        vertical-align: middle;\n",
       "    }\n",
       "\n",
       "    .dataframe tbody tr th {\n",
       "        vertical-align: top;\n",
       "    }\n",
       "\n",
       "    .dataframe thead th {\n",
       "        text-align: right;\n",
       "    }\n",
       "</style>\n",
       "<table border=\"1\" class=\"dataframe\">\n",
       "  <thead>\n",
       "    <tr style=\"text-align: right;\">\n",
       "      <th></th>\n",
       "      <th>Dimension 1</th>\n",
       "      <th>Dimension 2</th>\n",
       "      <th>mean</th>\n",
       "      <th>total_export</th>\n",
       "      <th>growth_trend</th>\n",
       "    </tr>\n",
       "    <tr>\n",
       "      <th>Country</th>\n",
       "      <th></th>\n",
       "      <th></th>\n",
       "      <th></th>\n",
       "      <th></th>\n",
       "      <th></th>\n",
       "    </tr>\n",
       "  </thead>\n",
       "  <tbody>\n",
       "    <tr>\n",
       "      <td>Afghanistan</td>\n",
       "      <td>732.215864</td>\n",
       "      <td>203.381494</td>\n",
       "      <td>353.333333</td>\n",
       "      <td>6360</td>\n",
       "      <td>-184</td>\n",
       "    </tr>\n",
       "    <tr>\n",
       "      <td>Albania</td>\n",
       "      <td>-613.296510</td>\n",
       "      <td>4.715978</td>\n",
       "      <td>36.944444</td>\n",
       "      <td>665</td>\n",
       "      <td>-19</td>\n",
       "    </tr>\n",
       "    <tr>\n",
       "      <td>Algeria</td>\n",
       "      <td>-569.303713</td>\n",
       "      <td>-36.837051</td>\n",
       "      <td>47.388889</td>\n",
       "      <td>853</td>\n",
       "      <td>12</td>\n",
       "    </tr>\n",
       "    <tr>\n",
       "      <td>American Samoa</td>\n",
       "      <td>-717.082766</td>\n",
       "      <td>5.464696</td>\n",
       "      <td>12.277778</td>\n",
       "      <td>221</td>\n",
       "      <td>1</td>\n",
       "    </tr>\n",
       "    <tr>\n",
       "      <td>Andorra</td>\n",
       "      <td>-661.802241</td>\n",
       "      <td>11.037736</td>\n",
       "      <td>25.277778</td>\n",
       "      <td>455</td>\n",
       "      <td>-16</td>\n",
       "    </tr>\n",
       "  </tbody>\n",
       "</table>\n",
       "</div>"
      ],
      "text/plain": [
       "                Dimension 1  Dimension 2        mean  total_export  \\\n",
       "Country                                                              \n",
       "Afghanistan      732.215864   203.381494  353.333333          6360   \n",
       "Albania         -613.296510     4.715978   36.944444           665   \n",
       "Algeria         -569.303713   -36.837051   47.388889           853   \n",
       "American Samoa  -717.082766     5.464696   12.277778           221   \n",
       "Andorra         -661.802241    11.037736   25.277778           455   \n",
       "\n",
       "                growth_trend  \n",
       "Country                       \n",
       "Afghanistan             -184  \n",
       "Albania                  -19  \n",
       "Algeria                   12  \n",
       "American Samoa             1  \n",
       "Andorra                  -16  "
      ]
     },
     "execution_count": 122,
     "metadata": {},
     "output_type": "execute_result"
    }
   ],
   "source": [
    "#export variance from 1990 to 2007\n",
    "export_pca_dataframe['growth_trend'] = export['2007'] -export['1992']\n",
    "export_pca_dataframe.head()"
   ]
  },
  {
   "cell_type": "markdown",
   "metadata": {},
   "source": [
    "scaling the data"
   ]
  },
  {
   "cell_type": "code",
   "execution_count": 125,
   "metadata": {},
   "outputs": [
    {
     "data": {
      "text/html": [
       "<div>\n",
       "<style scoped>\n",
       "    .dataframe tbody tr th:only-of-type {\n",
       "        vertical-align: middle;\n",
       "    }\n",
       "\n",
       "    .dataframe tbody tr th {\n",
       "        vertical-align: top;\n",
       "    }\n",
       "\n",
       "    .dataframe thead th {\n",
       "        text-align: right;\n",
       "    }\n",
       "</style>\n",
       "<table border=\"1\" class=\"dataframe\">\n",
       "  <thead>\n",
       "    <tr style=\"text-align: right;\">\n",
       "      <th></th>\n",
       "      <th>Dimension 1</th>\n",
       "      <th>Dimension 2</th>\n",
       "      <th>mean</th>\n",
       "      <th>total_export</th>\n",
       "      <th>growth_trend</th>\n",
       "    </tr>\n",
       "    <tr>\n",
       "      <th>Country</th>\n",
       "      <th></th>\n",
       "      <th></th>\n",
       "      <th></th>\n",
       "      <th></th>\n",
       "      <th></th>\n",
       "    </tr>\n",
       "  </thead>\n",
       "  <tbody>\n",
       "    <tr>\n",
       "      <td>Afghanistan</td>\n",
       "      <td>0.860409</td>\n",
       "      <td>0.930552</td>\n",
       "      <td>0.858182</td>\n",
       "      <td>0.858182</td>\n",
       "      <td>-1.161102</td>\n",
       "    </tr>\n",
       "    <tr>\n",
       "      <td>Albania</td>\n",
       "      <td>-0.720670</td>\n",
       "      <td>0.021577</td>\n",
       "      <td>-0.721020</td>\n",
       "      <td>-0.721020</td>\n",
       "      <td>0.048040</td>\n",
       "    </tr>\n",
       "    <tr>\n",
       "      <td>Algeria</td>\n",
       "      <td>-0.668975</td>\n",
       "      <td>-0.168544</td>\n",
       "      <td>-0.668888</td>\n",
       "      <td>-0.668888</td>\n",
       "      <td>0.275212</td>\n",
       "    </tr>\n",
       "    <tr>\n",
       "      <td>American Samoa</td>\n",
       "      <td>-0.842626</td>\n",
       "      <td>0.025003</td>\n",
       "      <td>-0.844139</td>\n",
       "      <td>-0.844139</td>\n",
       "      <td>0.194603</td>\n",
       "    </tr>\n",
       "    <tr>\n",
       "      <td>Andorra</td>\n",
       "      <td>-0.777668</td>\n",
       "      <td>0.050502</td>\n",
       "      <td>-0.779252</td>\n",
       "      <td>-0.779252</td>\n",
       "      <td>0.070024</td>\n",
       "    </tr>\n",
       "    <tr>\n",
       "      <td>...</td>\n",
       "      <td>...</td>\n",
       "      <td>...</td>\n",
       "      <td>...</td>\n",
       "      <td>...</td>\n",
       "      <td>...</td>\n",
       "    </tr>\n",
       "    <tr>\n",
       "      <td>Wallis et Futuna</td>\n",
       "      <td>-0.271908</td>\n",
       "      <td>0.563127</td>\n",
       "      <td>-0.275405</td>\n",
       "      <td>-0.275405</td>\n",
       "      <td>-0.098523</td>\n",
       "    </tr>\n",
       "    <tr>\n",
       "      <td>West Bank and Gaza</td>\n",
       "      <td>-0.687684</td>\n",
       "      <td>0.066176</td>\n",
       "      <td>-0.688853</td>\n",
       "      <td>-0.688853</td>\n",
       "      <td>0.018727</td>\n",
       "    </tr>\n",
       "    <tr>\n",
       "      <td>Yemen</td>\n",
       "      <td>0.069631</td>\n",
       "      <td>0.812303</td>\n",
       "      <td>0.064560</td>\n",
       "      <td>0.064560</td>\n",
       "      <td>-0.787367</td>\n",
       "    </tr>\n",
       "    <tr>\n",
       "      <td>Zambia</td>\n",
       "      <td>1.748886</td>\n",
       "      <td>-0.069760</td>\n",
       "      <td>1.766328</td>\n",
       "      <td>1.766328</td>\n",
       "      <td>-0.596836</td>\n",
       "    </tr>\n",
       "    <tr>\n",
       "      <td>Zimbabwe</td>\n",
       "      <td>1.643679</td>\n",
       "      <td>-2.207314</td>\n",
       "      <td>1.654300</td>\n",
       "      <td>1.654300</td>\n",
       "      <td>2.378386</td>\n",
       "    </tr>\n",
       "  </tbody>\n",
       "</table>\n",
       "<p>207 rows × 5 columns</p>\n",
       "</div>"
      ],
      "text/plain": [
       "                    Dimension 1  Dimension 2      mean  total_export  \\\n",
       "Country                                                                \n",
       "Afghanistan            0.860409     0.930552  0.858182      0.858182   \n",
       "Albania               -0.720670     0.021577 -0.721020     -0.721020   \n",
       "Algeria               -0.668975    -0.168544 -0.668888     -0.668888   \n",
       "American Samoa        -0.842626     0.025003 -0.844139     -0.844139   \n",
       "Andorra               -0.777668     0.050502 -0.779252     -0.779252   \n",
       "...                         ...          ...       ...           ...   \n",
       "Wallis et Futuna      -0.271908     0.563127 -0.275405     -0.275405   \n",
       "West Bank and Gaza    -0.687684     0.066176 -0.688853     -0.688853   \n",
       "Yemen                  0.069631     0.812303  0.064560      0.064560   \n",
       "Zambia                 1.748886    -0.069760  1.766328      1.766328   \n",
       "Zimbabwe               1.643679    -2.207314  1.654300      1.654300   \n",
       "\n",
       "                    growth_trend  \n",
       "Country                           \n",
       "Afghanistan            -1.161102  \n",
       "Albania                 0.048040  \n",
       "Algeria                 0.275212  \n",
       "American Samoa          0.194603  \n",
       "Andorra                 0.070024  \n",
       "...                          ...  \n",
       "Wallis et Futuna       -0.098523  \n",
       "West Bank and Gaza      0.018727  \n",
       "Yemen                  -0.787367  \n",
       "Zambia                 -0.596836  \n",
       "Zimbabwe                2.378386  \n",
       "\n",
       "[207 rows x 5 columns]"
      ]
     },
     "execution_count": 125,
     "metadata": {},
     "output_type": "execute_result"
    }
   ],
   "source": [
    "from sklearn.preprocessing import StandardScaler\n",
    "scaler = StandardScaler()\n",
    "X = scaler.fit_transform(export_pca_dataframe)\n",
    "X_df = pd.DataFrame(X, columns = export_pca_dataframe.columns, index = export_pca_dataframe.index)\n",
    "X_df"
   ]
  },
  {
   "cell_type": "markdown",
   "metadata": {},
   "source": [
    "K Means Clustering and finding the best number of clusters by plotting intertia and findinf the elbow point"
   ]
  },
  {
   "cell_type": "code",
   "execution_count": 126,
   "metadata": {},
   "outputs": [
    {
     "data": {
      "text/plain": [
       "Text(0, 0.5, 'scores')"
      ]
     },
     "execution_count": 126,
     "metadata": {},
     "output_type": "execute_result"
    },
    {
     "data": {
      "image/png": "[encoded data removed]",
      "text/plain": [
       "<Figure size 720x720 with 1 Axes>"
      ]
     },
     "metadata": {
      "needs_background": "light"
     },
     "output_type": "display_data"
    }
   ],
   "source": [
    "from sklearn.cluster import KMeans\n",
    "k_range = range(2, 20)\n",
    "scores = []\n",
    "for k in k_range:\n",
    "    km = KMeans(n_clusters=k, random_state=1)\n",
    "    km.fit_predict(export_pca_dataframe)\n",
    "    scores.append(km.inertia_)\n",
    "scores \n",
    "# plot the results\n",
    "plt.plot(k_range,scores)\n",
    "plt.xlabel('n value')\n",
    "plt.ylabel('scores')  "
   ]
  },
  {
   "cell_type": "markdown",
   "metadata": {},
   "source": [
    "n_cluster = 6 is the eblow point"
   ]
  },
  {
   "cell_type": "markdown",
   "metadata": {},
   "source": [
    "measuring silhouette coeff with n = 6"
   ]
  },
  {
   "cell_type": "code",
   "execution_count": 133,
   "metadata": {},
   "outputs": [
    {
     "name": "stdout",
     "output_type": "stream",
     "text": [
      "0.5690941564441423\n"
     ]
    }
   ],
   "source": [
    "from sklearn import metrics\n",
    "km = KMeans(n_clusters=6, random_state=1)\n",
    "km.fit(export_pca_dataframe)\n",
    "print(metrics.silhouette_score(export_pca_dataframe, km.labels_))"
   ]
  },
  {
   "cell_type": "markdown",
   "metadata": {},
   "source": [
    "scatter plot of clusters"
   ]
  },
  {
   "cell_type": "code",
   "execution_count": 138,
   "metadata": {},
   "outputs": [
    {
     "data": {
      "text/html": [
       "<div>\n",
       "<style scoped>\n",
       "    .dataframe tbody tr th:only-of-type {\n",
       "        vertical-align: middle;\n",
       "    }\n",
       "\n",
       "    .dataframe tbody tr th {\n",
       "        vertical-align: top;\n",
       "    }\n",
       "\n",
       "    .dataframe thead th {\n",
       "        text-align: right;\n",
       "    }\n",
       "</style>\n",
       "<table border=\"1\" class=\"dataframe\">\n",
       "  <thead>\n",
       "    <tr style=\"text-align: right;\">\n",
       "      <th></th>\n",
       "      <th>Dimension 1</th>\n",
       "      <th>Dimension 2</th>\n",
       "      <th>mean</th>\n",
       "      <th>total_export</th>\n",
       "      <th>growth_trend</th>\n",
       "      <th>cluster_label</th>\n",
       "    </tr>\n",
       "    <tr>\n",
       "      <th>Country</th>\n",
       "      <th></th>\n",
       "      <th></th>\n",
       "      <th></th>\n",
       "      <th></th>\n",
       "      <th></th>\n",
       "      <th></th>\n",
       "    </tr>\n",
       "  </thead>\n",
       "  <tbody>\n",
       "    <tr>\n",
       "      <td>Afghanistan</td>\n",
       "      <td>732.215864</td>\n",
       "      <td>203.381494</td>\n",
       "      <td>353.333333</td>\n",
       "      <td>6360</td>\n",
       "      <td>-184</td>\n",
       "      <td>0</td>\n",
       "    </tr>\n",
       "    <tr>\n",
       "      <td>Albania</td>\n",
       "      <td>-613.296510</td>\n",
       "      <td>4.715978</td>\n",
       "      <td>36.944444</td>\n",
       "      <td>665</td>\n",
       "      <td>-19</td>\n",
       "      <td>3</td>\n",
       "    </tr>\n",
       "    <tr>\n",
       "      <td>Algeria</td>\n",
       "      <td>-569.303713</td>\n",
       "      <td>-36.837051</td>\n",
       "      <td>47.388889</td>\n",
       "      <td>853</td>\n",
       "      <td>12</td>\n",
       "      <td>3</td>\n",
       "    </tr>\n",
       "    <tr>\n",
       "      <td>American Samoa</td>\n",
       "      <td>-717.082766</td>\n",
       "      <td>5.464696</td>\n",
       "      <td>12.277778</td>\n",
       "      <td>221</td>\n",
       "      <td>1</td>\n",
       "      <td>3</td>\n",
       "    </tr>\n",
       "    <tr>\n",
       "      <td>Andorra</td>\n",
       "      <td>-661.802241</td>\n",
       "      <td>11.037736</td>\n",
       "      <td>25.277778</td>\n",
       "      <td>455</td>\n",
       "      <td>-16</td>\n",
       "      <td>3</td>\n",
       "    </tr>\n",
       "  </tbody>\n",
       "</table>\n",
       "</div>"
      ],
      "text/plain": [
       "                Dimension 1  Dimension 2        mean  total_export  \\\n",
       "Country                                                              \n",
       "Afghanistan      732.215864   203.381494  353.333333          6360   \n",
       "Albania         -613.296510     4.715978   36.944444           665   \n",
       "Algeria         -569.303713   -36.837051   47.388889           853   \n",
       "American Samoa  -717.082766     5.464696   12.277778           221   \n",
       "Andorra         -661.802241    11.037736   25.277778           455   \n",
       "\n",
       "                growth_trend  cluster_label  \n",
       "Country                                      \n",
       "Afghanistan             -184              0  \n",
       "Albania                  -19              3  \n",
       "Algeria                   12              3  \n",
       "American Samoa             1              3  \n",
       "Andorra                  -16              3  "
      ]
     },
     "execution_count": 138,
     "metadata": {},
     "output_type": "execute_result"
    }
   ],
   "source": [
    "export_pca_dataframe['cluster_label'] = km.labels_\n",
    "export_pca_dataframe.head()"
   ]
  },
  {
   "cell_type": "code",
   "execution_count": 142,
   "metadata": {},
   "outputs": [
    {
     "data": {
      "text/html": [
       "<div>\n",
       "<style scoped>\n",
       "    .dataframe tbody tr th:only-of-type {\n",
       "        vertical-align: middle;\n",
       "    }\n",
       "\n",
       "    .dataframe tbody tr th {\n",
       "        vertical-align: top;\n",
       "    }\n",
       "\n",
       "    .dataframe thead th {\n",
       "        text-align: right;\n",
       "    }\n",
       "</style>\n",
       "<table border=\"1\" class=\"dataframe\">\n",
       "  <thead>\n",
       "    <tr style=\"text-align: right;\">\n",
       "      <th></th>\n",
       "      <th>Dimension 1</th>\n",
       "      <th>Dimension 2</th>\n",
       "      <th>mean</th>\n",
       "      <th>total_export</th>\n",
       "      <th>growth_trend</th>\n",
       "    </tr>\n",
       "  </thead>\n",
       "  <tbody>\n",
       "    <tr>\n",
       "      <td>0</td>\n",
       "      <td>597.213785</td>\n",
       "      <td>5.694716</td>\n",
       "      <td>322.251029</td>\n",
       "      <td>5800.518519</td>\n",
       "      <td>-37.740741</td>\n",
       "    </tr>\n",
       "    <tr>\n",
       "      <td>1</td>\n",
       "      <td>-271.094622</td>\n",
       "      <td>19.489120</td>\n",
       "      <td>117.600000</td>\n",
       "      <td>2116.800000</td>\n",
       "      <td>-31.740000</td>\n",
       "    </tr>\n",
       "    <tr>\n",
       "      <td>2</td>\n",
       "      <td>1931.686191</td>\n",
       "      <td>101.554057</td>\n",
       "      <td>635.645299</td>\n",
       "      <td>11441.615385</td>\n",
       "      <td>-118.461538</td>\n",
       "    </tr>\n",
       "    <tr>\n",
       "      <td>3</td>\n",
       "      <td>-650.407021</td>\n",
       "      <td>10.242624</td>\n",
       "      <td>28.040904</td>\n",
       "      <td>504.736264</td>\n",
       "      <td>-18.010989</td>\n",
       "    </tr>\n",
       "    <tr>\n",
       "      <td>4</td>\n",
       "      <td>1108.265197</td>\n",
       "      <td>-158.378803</td>\n",
       "      <td>443.580000</td>\n",
       "      <td>7984.440000</td>\n",
       "      <td>34.160000</td>\n",
       "    </tr>\n",
       "    <tr>\n",
       "      <td>5</td>\n",
       "      <td>3798.447446</td>\n",
       "      <td>578.975277</td>\n",
       "      <td>1064.166667</td>\n",
       "      <td>19155.000000</td>\n",
       "      <td>-359.000000</td>\n",
       "    </tr>\n",
       "  </tbody>\n",
       "</table>\n",
       "</div>"
      ],
      "text/plain": [
       "   Dimension 1  Dimension 2         mean  total_export  growth_trend\n",
       "0   597.213785     5.694716   322.251029   5800.518519    -37.740741\n",
       "1  -271.094622    19.489120   117.600000   2116.800000    -31.740000\n",
       "2  1931.686191   101.554057   635.645299  11441.615385   -118.461538\n",
       "3  -650.407021    10.242624    28.040904    504.736264    -18.010989\n",
       "4  1108.265197  -158.378803   443.580000   7984.440000     34.160000\n",
       "5  3798.447446   578.975277  1064.166667  19155.000000   -359.000000"
      ]
     },
     "execution_count": 142,
     "metadata": {},
     "output_type": "execute_result"
    }
   ],
   "source": [
    "center = pd.DataFrame(km.cluster_centers_,columns = ['Dimension 1','Dimension 2', 'mean','total_export','growth_trend'], index = [0,1,2,3,4,5])\n",
    "center"
   ]
  },
  {
   "cell_type": "markdown",
   "metadata": {},
   "source": [
    "scatter plot"
   ]
  },
  {
   "cell_type": "code",
   "execution_count": 143,
   "metadata": {},
   "outputs": [
    {
     "data": {
      "text/plain": [
       "array(['red', 'green', 'blue', 'orange', 'purple', 'yellow'], dtype='<U6')"
      ]
     },
     "execution_count": 143,
     "metadata": {},
     "output_type": "execute_result"
    }
   ],
   "source": [
    "import numpy as np\n",
    "colors = np.array(['red', 'green', 'blue', 'orange','purple','yellow'])\n",
    "colors"
   ]
  },
  {
   "cell_type": "code",
   "execution_count": 144,
   "metadata": {},
   "outputs": [
    {
     "data": {
      "text/plain": [
       "array(['red', 'orange', 'orange', 'orange', 'orange', 'purple', 'orange',\n",
       "       'orange', 'orange', 'green', 'orange', 'orange', 'green', 'orange',\n",
       "       'green', 'purple', 'orange', 'green', 'orange', 'orange', 'green',\n",
       "       'orange', 'blue', 'red', 'green', 'purple', 'green', 'orange',\n",
       "       'green', 'orange', 'red', 'purple', 'blue', 'green', 'orange',\n",
       "       'red', 'orange', 'purple', 'purple', 'orange', 'red', 'orange',\n",
       "       'green', 'red', 'orange', 'orange', 'green', 'orange', 'orange',\n",
       "       'orange', 'purple', 'blue', 'purple', 'orange', 'yellow', 'orange',\n",
       "       'green', 'green', 'orange', 'green', 'red', 'green', 'orange',\n",
       "       'purple', 'orange', 'orange', 'orange', 'orange', 'red', 'red',\n",
       "       'green', 'orange', 'purple', 'orange', 'orange', 'green', 'green',\n",
       "       'red', 'red', 'green', 'purple', 'green', 'orange', 'orange',\n",
       "       'purple', 'red', 'orange', 'green', 'orange', 'orange', 'orange',\n",
       "       'orange', 'orange', 'orange', 'green', 'red', 'blue', 'orange',\n",
       "       'green', 'red', 'green', 'orange', 'red', 'purple', 'orange',\n",
       "       'green', 'orange', 'red', 'red', 'green', 'green', 'blue',\n",
       "       'orange', 'blue', 'orange', 'orange', 'green', 'orange', 'red',\n",
       "       'orange', 'green', 'purple', 'red', 'blue', 'green', 'purple',\n",
       "       'orange', 'orange', 'orange', 'orange', 'green', 'red', 'purple',\n",
       "       'green', 'green', 'orange', 'orange', 'red', 'green', 'orange',\n",
       "       'purple', 'green', 'red', 'blue', 'orange', 'orange', 'orange',\n",
       "       'green', 'green', 'green', 'green', 'green', 'purple', 'orange',\n",
       "       'orange', 'orange', 'orange', 'orange', 'red', 'orange', 'purple',\n",
       "       'green', 'blue', 'orange', 'orange', 'orange', 'red', 'purple',\n",
       "       'blue', 'orange', 'green', 'purple', 'green', 'blue', 'orange',\n",
       "       'orange', 'orange', 'green', 'red', 'orange', 'blue', 'blue',\n",
       "       'orange', 'orange', 'orange', 'orange', 'orange', 'green',\n",
       "       'orange', 'purple', 'purple', 'green', 'orange', 'orange', 'red',\n",
       "       'orange', 'orange', 'orange', 'green', 'green', 'orange', 'red',\n",
       "       'green', 'orange', 'green', 'purple', 'purple'], dtype='<U6')"
      ]
     },
     "execution_count": 144,
     "metadata": {},
     "output_type": "execute_result"
    }
   ],
   "source": [
    "c = colors[export_pca_dataframe['cluster_label']]\n",
    "c"
   ]
  },
  {
   "cell_type": "code",
   "execution_count": 149,
   "metadata": {},
   "outputs": [
    {
     "data": {
      "text/plain": [
       "Text(0, 0.5, 'Dimension 2')"
      ]
     },
     "execution_count": 149,
     "metadata": {},
     "output_type": "execute_result"
    },
    {
     "data": {
      "image/png": "[encoded data removed]",
      "text/plain": [
       "<Figure size 720x720 with 1 Axes>"
      ]
     },
     "metadata": {
      "needs_background": "light"
     },
     "output_type": "display_data"
    }
   ],
   "source": [
    "plt.scatter(export_pca_dataframe['Dimension 1'],export_pca_dataframe['Dimension 2'], c = colors[export_pca_dataframe['cluster_label']])\n",
    "plt.scatter(center['Dimension 1'],center['Dimension 2'],marker = '*', color = 'black', s=150)\n",
    "plt.xlabel('Dimension 1')\n",
    "plt.ylabel('Dimension 2')"
   ]
  },
  {
   "cell_type": "markdown",
   "metadata": {},
   "source": [
    "using seaborn"
   ]
  },
  {
   "cell_type": "code",
   "execution_count": 151,
   "metadata": {},
   "outputs": [
    {
     "data": {
      "text/plain": [
       "<seaborn.axisgrid.FacetGrid at 0x2e7f344b7c8>"
      ]
     },
     "execution_count": 151,
     "metadata": {},
     "output_type": "execute_result"
    },
    {
     "data": {
      "image/png": "[encoded data removed]",
      "text/plain": [
       "<Figure size 496.5x432 with 1 Axes>"
      ]
     },
     "metadata": {},
     "output_type": "display_data"
    }
   ],
   "source": [
    "import seaborn as sns\n",
    "sns.set_style('whitegrid')\n",
    "sns.lmplot('Dimension 1', 'Dimension 2', data = export_pca_dataframe[['Dimension 1', 'Dimension 2','cluster_label']], hue='cluster_label',\n",
    "           palette='coolwarm',size=6,aspect=1,fit_reg=False)\n"
   ]
  },
  {
   "cell_type": "code",
   "execution_count": 154,
   "metadata": {},
   "outputs": [
    {
     "data": {
      "text/plain": [
       "<matplotlib.axes._subplots.AxesSubplot at 0x2e7f13d9208>"
      ]
     },
     "execution_count": 154,
     "metadata": {},
     "output_type": "execute_result"
    },
    {
     "data": {
      "image/png": "[encoded data removed]",
      "text/plain": [
       "<Figure size 720x720 with 1 Axes>"
      ]
     },
     "metadata": {},
     "output_type": "display_data"
    }
   ],
   "source": [
    "label_count = export_pca_dataframe.groupby('cluster_label').cluster_label.count()\n",
    "label_count.plot(kind = 'bar')"
   ]
  },
  {
   "cell_type": "code",
   "execution_count": null,
   "metadata": {},
   "outputs": [],
   "source": []
  }
 ],
 "metadata": {
  "kernelspec": {
   "display_name": "Python 3",
   "language": "python",
   "name": "python3"
  },
  "language_info": {
   "codemirror_mode": {
    "name": "ipython",
    "version": 3
   },
   "file_extension": ".py",
   "mimetype": "text/x-python",
   "name": "python",
   "nbconvert_exporter": "python",
   "pygments_lexer": "ipython3",
   "version": "3.7.4"
  }
 },
 "nbformat": 4,
 "nbformat_minor": 2
}
